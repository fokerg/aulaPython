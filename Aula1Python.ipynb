{
  "nbformat": 4,
  "nbformat_minor": 0,
  "metadata": {
    "colab": {
      "name": "Aula1Python.ipynb",
      "provenance": [],
      "authorship_tag": "ABX9TyNoW+6hS9FpHlNgItf9pUcn",
      "include_colab_link": true
    },
    "kernelspec": {
      "name": "python3",
      "display_name": "Python 3"
    }
  },
  "cells": [
    {
      "cell_type": "markdown",
      "metadata": {
        "id": "view-in-github",
        "colab_type": "text"
      },
      "source": [
        "<a href=\"https://colab.research.google.com/github/fokerg/aulaPython/blob/master/Aula1Python.ipynb\" target=\"_parent\"><img src=\"https://colab.research.google.com/assets/colab-badge.svg\" alt=\"Open In Colab\"/></a>"
      ]
    },
    {
      "cell_type": "code",
      "metadata": {
        "id": "dElQm9Sp95GF",
        "colab_type": "code",
        "colab": {}
      },
      "source": [
        "#variáveis do tipo str\n",
        "nome1= 'Lucas'         \n",
        "nome2 = 'Bruna'\n",
        "nome3 = 'Maria'\n",
        "nome4 = 'João'\n",
        "\n",
        "nome11, nome12, nome13 = 'josé' , 'leandro', 'juliana'\n",
        "\n",
        "#variáveis do tipo str\n",
        "cargo1 = 'Analista'\n",
        "cargo2 = 'Coordenador'\n",
        "cargo3 = 'Diretor'\n",
        "cargo4 = 'Especialista'\n",
        "\n",
        "#variáveis do tipo int\n",
        "idade1 = 28\n",
        "idade2 = 29\n",
        "idade3 = 20\n",
        "idade4 = 32\n",
        "\n",
        "#variáveis do tipo float\n",
        "salario1 = 1900.10\n",
        "salario2 = 3200.15\n",
        "salario3 = 4500.07\n",
        "salario4 = 3020.58\n",
        "\n",
        "x = 10\n",
        "y = 20\n",
        "z = 30\n",
        "nome= \"Lucas\"\n",
        "cargo = 'Analista'"
      ],
      "execution_count": 1,
      "outputs": []
    },
    {
      "cell_type": "code",
      "metadata": {
        "id": "Ly9JITh3C0DU",
        "colab_type": "code",
        "colab": {
          "base_uri": "https://localhost:8080/",
          "height": 85
        },
        "outputId": "ae6c1968-b5dc-4e1f-e561-9093438e84d2"
      },
      "source": [
        "somasalarios = salario1 + salario2\n",
        "somadesalarioAlternativo = sum([salario1,salario2,salario3])\n",
        "concatenarStrings = nome+ ' ' +cargo  #unindo textos\n",
        "\n",
        "print('Resultado das operações:')\n",
        "print(str(somasalarios))\n",
        "print(str(somadesalarioAlternativo))\n",
        "print(concatenarStrings)"
      ],
      "execution_count": 2,
      "outputs": [
        {
          "output_type": "stream",
          "text": [
            "Resultado das operações:\n",
            "5100.25\n",
            "9600.32\n",
            "Lucas Analista\n"
          ],
          "name": "stdout"
        }
      ]
    },
    {
      "cell_type": "code",
      "metadata": {
        "id": "YFEWTRU1i_T1",
        "colab_type": "code",
        "colab": {
          "base_uri": "https://localhost:8080/",
          "height": 34
        },
        "outputId": "17cb6020-4f4e-4b85-d090-d40778c650ba"
      },
      "source": [
        "variavelteste='10.1'\n",
        "soma = float(variavelteste) + x\n",
        "soma"
      ],
      "execution_count": 3,
      "outputs": [
        {
          "output_type": "execute_result",
          "data": {
            "text/plain": [
              "20.1"
            ]
          },
          "metadata": {
            "tags": []
          },
          "execution_count": 3
        }
      ]
    },
    {
      "cell_type": "code",
      "metadata": {
        "id": "N39hR_Afjt3k",
        "colab_type": "code",
        "colab": {
          "base_uri": "https://localhost:8080/",
          "height": 85
        },
        "outputId": "eab0c7f2-8f1d-4d28-8f22-e1c2adb160a9"
      },
      "source": [
        "print('Formatando a impressão\\nNome do servidor: {}\\nCargo: {}\\nSalario: {}'.format(nome1,cargo1,salario1))"
      ],
      "execution_count": 4,
      "outputs": [
        {
          "output_type": "stream",
          "text": [
            "Formatando a impressão\n",
            "Nome do servidor: Lucas\n",
            "Cargo: Analista\n",
            "Salario: 1900.1\n"
          ],
          "name": "stdout"
        }
      ]
    },
    {
      "cell_type": "markdown",
      "metadata": {
        "id": "L718SPM1k9sR",
        "colab_type": "text"
      },
      "source": [
        "\n",
        "Manuseando Listas\n",
        "\n"
      ]
    },
    {
      "cell_type": "code",
      "metadata": {
        "id": "CGQo0JmeOrqW",
        "colab_type": "code",
        "colab": {
          "base_uri": "https://localhost:8080/",
          "height": 68
        },
        "outputId": "c0cdef3f-c48a-4de4-ae05-c5cd24a5bd8d"
      },
      "source": [
        "listavazia = []\n",
        "lista1= [nome1,nome2,nome3,nome4,'José']\n",
        "lista2= [cargo1,cargo2,cargo3,cargo4,'Supervisor']\n",
        "lista3mista = [[idade1,salario1],[idade2,salario2]]\n",
        "\n",
        "print(lista1)\n",
        "print(lista2)\n",
        "print(lista3mista)"
      ],
      "execution_count": 5,
      "outputs": [
        {
          "output_type": "stream",
          "text": [
            "['Lucas', 'Bruna', 'Maria', 'João', 'José']\n",
            "['Analista', 'Coordenador', 'Diretor', 'Especialista', 'Supervisor']\n",
            "[[28, 1900.1], [29, 3200.15]]\n"
          ],
          "name": "stdout"
        }
      ]
    },
    {
      "cell_type": "code",
      "metadata": {
        "id": "XVWbQ4LSIkIT",
        "colab_type": "code",
        "colab": {
          "base_uri": "https://localhost:8080/",
          "height": 34
        },
        "outputId": "0fa2df84-77f1-4f5e-85bf-d2e3b533e83e"
      },
      "source": [
        "lista1"
      ],
      "execution_count": 6,
      "outputs": [
        {
          "output_type": "execute_result",
          "data": {
            "text/plain": [
              "['Lucas', 'Bruna', 'Maria', 'João', 'José']"
            ]
          },
          "metadata": {
            "tags": []
          },
          "execution_count": 6
        }
      ]
    },
    {
      "cell_type": "code",
      "metadata": {
        "id": "F3NvJK89H5RM",
        "colab_type": "code",
        "colab": {
          "base_uri": "https://localhost:8080/",
          "height": 35
        },
        "outputId": "74bd6758-9483-4778-8338-48bfafb539de"
      },
      "source": [
        "lista1[1]"
      ],
      "execution_count": 7,
      "outputs": [
        {
          "output_type": "execute_result",
          "data": {
            "application/vnd.google.colaboratory.intrinsic": {
              "type": "string"
            },
            "text/plain": [
              "'Bruna'"
            ]
          },
          "metadata": {
            "tags": []
          },
          "execution_count": 7
        }
      ]
    },
    {
      "cell_type": "code",
      "metadata": {
        "id": "-LuoaqQwIAW0",
        "colab_type": "code",
        "colab": {
          "base_uri": "https://localhost:8080/",
          "height": 34
        },
        "outputId": "d7b5ee3d-c089-4adf-9694-9c3a5ef8cda8"
      },
      "source": [
        "lista2[0:3]"
      ],
      "execution_count": 8,
      "outputs": [
        {
          "output_type": "execute_result",
          "data": {
            "text/plain": [
              "['Analista', 'Coordenador', 'Diretor']"
            ]
          },
          "metadata": {
            "tags": []
          },
          "execution_count": 8
        }
      ]
    },
    {
      "cell_type": "code",
      "metadata": {
        "id": "MtXYsNVtIL-L",
        "colab_type": "code",
        "colab": {
          "base_uri": "https://localhost:8080/",
          "height": 34
        },
        "outputId": "0835f6d6-1e62-4abe-cd5a-ea65a79e5bc9"
      },
      "source": [
        "lista3mista[0]"
      ],
      "execution_count": 9,
      "outputs": [
        {
          "output_type": "execute_result",
          "data": {
            "text/plain": [
              "[28, 1900.1]"
            ]
          },
          "metadata": {
            "tags": []
          },
          "execution_count": 9
        }
      ]
    },
    {
      "cell_type": "code",
      "metadata": {
        "id": "Ry71KNJXIESj",
        "colab_type": "code",
        "colab": {
          "base_uri": "https://localhost:8080/",
          "height": 34
        },
        "outputId": "a9b9b97a-bb46-4a92-d3f1-d737b016ece7"
      },
      "source": [
        "lista3mista[0][1]"
      ],
      "execution_count": 10,
      "outputs": [
        {
          "output_type": "execute_result",
          "data": {
            "text/plain": [
              "1900.1"
            ]
          },
          "metadata": {
            "tags": []
          },
          "execution_count": 10
        }
      ]
    },
    {
      "cell_type": "code",
      "metadata": {
        "id": "kC9TSgadStaw",
        "colab_type": "code",
        "colab": {
          "base_uri": "https://localhost:8080/",
          "height": 85
        },
        "outputId": "b541e972-d5b2-4e0f-c538-30bd3a9609d5"
      },
      "source": [
        "listavazia = []\n",
        "listavazia.append(lista1)\n",
        "listavazia.append(lista2)\n",
        "listavazia.append(10)\n",
        "\n",
        "print(listavazia)\n",
        "print('\\nPrimeiro objeto da listavazia: {}'.format(listavazia[0]))\n",
        "print('Valor contido na posição 3 da lista que está na posição 1 da listavazia: {}'.format(listavazia[1][3]))"
      ],
      "execution_count": 11,
      "outputs": [
        {
          "output_type": "stream",
          "text": [
            "[['Lucas', 'Bruna', 'Maria', 'João', 'José'], ['Analista', 'Coordenador', 'Diretor', 'Especialista', 'Supervisor'], 10]\n",
            "\n",
            "Primeiro objeto da listavazia: ['Lucas', 'Bruna', 'Maria', 'João', 'José']\n",
            "Valor contido na posição 3 da lista que está na posição 1 da listavazia: Especialista\n"
          ],
          "name": "stdout"
        }
      ]
    },
    {
      "cell_type": "code",
      "metadata": {
        "id": "Ftg43UPxUPDM",
        "colab_type": "code",
        "colab": {
          "base_uri": "https://localhost:8080/",
          "height": 34
        },
        "outputId": "0ab201e3-edd5-4cea-f9c1-68c8d372bc8d"
      },
      "source": [
        "listaIdade = [idade1,idade2]\n",
        "listaIdade.append(idade3)\n",
        "listaIdade.append(idade4)\n",
        "\n",
        "#crie uma lista para armazenar os salários \n",
        "#nos mesmos moldes que a listaIdade criada acima\n",
        "#e depois a imprima-a\n",
        "\n",
        "listaIdade"
      ],
      "execution_count": 12,
      "outputs": [
        {
          "output_type": "execute_result",
          "data": {
            "text/plain": [
              "[28, 29, 20, 32]"
            ]
          },
          "metadata": {
            "tags": []
          },
          "execution_count": 12
        }
      ]
    },
    {
      "cell_type": "code",
      "metadata": {
        "id": "Ew9LnoxnpntE",
        "colab_type": "code",
        "colab": {
          "base_uri": "https://localhost:8080/",
          "height": 34
        },
        "outputId": "a04147f4-328e-4d34-8d3d-5abc8724950a"
      },
      "source": [
        "listaSalarios = [salario1, salario2]\n",
        "listaSalarios.append(salario3)\n",
        "listaSalarios.append(salario4)\n",
        "\n",
        "listaSalarios"
      ],
      "execution_count": 13,
      "outputs": [
        {
          "output_type": "execute_result",
          "data": {
            "text/plain": [
              "[1900.1, 3200.15, 4500.07, 3020.58]"
            ]
          },
          "metadata": {
            "tags": []
          },
          "execution_count": 13
        }
      ]
    },
    {
      "cell_type": "markdown",
      "metadata": {
        "id": "4ZETGvCLFK7K",
        "colab_type": "text"
      },
      "source": [
        "Operadores lógicos e condicional"
      ]
    },
    {
      "cell_type": "code",
      "metadata": {
        "id": "QPicb52V33wz",
        "colab_type": "code",
        "colab": {
          "base_uri": "https://localhost:8080/",
          "height": 34
        },
        "outputId": "5f6a0428-15ee-4da9-cbb6-57eadc459a2d"
      },
      "source": [
        "if listaIdade[3]>30:\n",
        "  print('o Valor da posição 3 da listaIdade é Maior que 30')\n",
        "elif listaIdade[3]==30:\n",
        "  print('o Valor da posição 3 da listaIdade é IGUAL que 30')\n",
        "else:\n",
        "  print('o Valor da posição 3 da listaIdade é MENOR que 30')\n"
      ],
      "execution_count": 14,
      "outputs": [
        {
          "output_type": "stream",
          "text": [
            "o Valor da posição 3 da listaIdade é Maior que 30\n"
          ],
          "name": "stdout"
        }
      ]
    },
    {
      "cell_type": "markdown",
      "metadata": {
        "id": "FEaI-Ww3FQC9",
        "colab_type": "text"
      },
      "source": [
        "Laço de repetição"
      ]
    },
    {
      "cell_type": "code",
      "metadata": {
        "id": "q_qmziqaFSdz",
        "colab_type": "code",
        "colab": {
          "base_uri": "https://localhost:8080/",
          "height": 102
        },
        "outputId": "3cbc3b28-99c7-4b1a-f4c8-5bdd5478a8eb"
      },
      "source": [
        "listaIdade.append(31)\n",
        "for novavariavel in listaIdade:\n",
        "  if novavariavel<28:\n",
        "    print('{} é MENOR que 28'.format(novavariavel))\n",
        "  elif ((novavariavel>=28) & (novavariavel<30)):\n",
        "    print('{} está entre 28 e 30'.format(novavariavel))\n",
        "  elif novavariavel==32:\n",
        "    print('{} é IGUAL a 32'.format(novavariavel))\n",
        "  else:\n",
        "    print('{} é MAIOR que 30 e diferente de 32'.format(novavariavel))"
      ],
      "execution_count": 15,
      "outputs": [
        {
          "output_type": "stream",
          "text": [
            "28 está entre 28 e 30\n",
            "29 está entre 28 e 30\n",
            "20 é MENOR que 28\n",
            "32 é IGUAL a 32\n",
            "31 é MAIOR que 30 e diferente de 32\n"
          ],
          "name": "stdout"
        }
      ]
    },
    {
      "cell_type": "code",
      "metadata": {
        "id": "dg6QZQjfKeEN",
        "colab_type": "code",
        "colab": {
          "base_uri": "https://localhost:8080/",
          "height": 85
        },
        "outputId": "41b7ad8f-7f30-45a4-b09a-519307c34bbe"
      },
      "source": [
        "for variavelposicao in range(0,4):\n",
        "  print('imprimindo o valor:{}'.format(lista1[variavelposicao])) #lista1[1]"
      ],
      "execution_count": 16,
      "outputs": [
        {
          "output_type": "stream",
          "text": [
            "imprimindo o valor:Lucas\n",
            "imprimindo o valor:Bruna\n",
            "imprimindo o valor:Maria\n",
            "imprimindo o valor:João\n"
          ],
          "name": "stdout"
        }
      ]
    },
    {
      "cell_type": "code",
      "metadata": {
        "colab_type": "code",
        "id": "lIabhDaB3lZ2",
        "colab": {
          "base_uri": "https://localhost:8080/",
          "height": 51
        },
        "outputId": "626005fb-c284-474d-d779-591993f493a6"
      },
      "source": [
        "for x in range(0,2):\n",
        "  print('imprimindo o valor:{}'.format(listavazia[x])) #listavazia[1]"
      ],
      "execution_count": 27,
      "outputs": [
        {
          "output_type": "stream",
          "text": [
            "imprimindo o valor:['Lucas', 'Bruna', 'Maria', 'João', 'José']\n",
            "imprimindo o valor:['Analista', 'Coordenador', 'Diretor', 'Especialista', 'Supervisor']\n"
          ],
          "name": "stdout"
        }
      ]
    }
  ]
}