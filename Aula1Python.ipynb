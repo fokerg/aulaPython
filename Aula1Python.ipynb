{
  "nbformat": 4,
  "nbformat_minor": 0,
  "metadata": {
    "colab": {
      "name": "Aula1Python.ipynb",
      "provenance": []
    },
    "kernelspec": {
      "name": "python3",
      "display_name": "Python 3"
    }
  },
  "cells": [
    {
      "cell_type": "code",
      "metadata": {
        "id": "dElQm9Sp95GF",
        "colab_type": "code",
        "colab": {}
      },
      "source": [
        "#variáveis do tipo str\n",
        "nome1= 'Lucas'         \n",
        "nome2 = 'Bruna'\n",
        "nome3 = 'Maria'\n",
        "nome4 = 'João'\n",
        "\n",
        "nome11, nome12, nome13 = 'josé' , 'leandro', 'juliana'\n",
        "\n",
        "#variáveis do tipo str\n",
        "cargo1 = 'Analista'\n",
        "cargo2 = 'Coordenador'\n",
        "cargo3 = 'Diretor'\n",
        "cargo4 = 'Especialista'\n",
        "\n",
        "#variáveis do tipo int\n",
        "idade1 = 28\n",
        "idade2 = 29\n",
        "idade3 = 20\n",
        "idade4 = 32\n",
        "\n",
        "#variáveis do tipo float\n",
        "salario1 = 1900.10\n",
        "salario2 = 3200.15\n",
        "salario3 = 4500.07\n",
        "salario4 = 3020.58\n",
        "\n",
        "x = 10\n",
        "y = 20\n",
        "z = 30\n",
        "nome= \"Lucas\"\n",
        "cargo = 'Analista'"
      ],
      "execution_count": 40,
      "outputs": []
    },
    {
      "cell_type": "code",
      "metadata": {
        "id": "-rVobx32h7vL",
        "colab_type": "code",
        "colab": {}
      },
      "source": [
        ""
      ],
      "execution_count": 40,
      "outputs": []
    },
    {
      "cell_type": "code",
      "metadata": {
        "id": "Ly9JITh3C0DU",
        "colab_type": "code",
        "colab": {
          "base_uri": "https://localhost:8080/",
          "height": 85
        },
        "outputId": "b37b8c8d-15e3-4083-fea1-a73d05408640"
      },
      "source": [
        "somasalarios = salario1 + salario2\n",
        "somadesalarioAlternativo = sum([salario1,salario2,salario3])\n",
        "concatenarStrings = nome+ ' ' +cargo  #unindo textos\n",
        "\n",
        "print('Resultado das operações:')\n",
        "print(str(somasalarios))\n",
        "print(str(somadesalarioAlternativo))\n",
        "print(concatenarStrings)"
      ],
      "execution_count": 41,
      "outputs": [
        {
          "output_type": "stream",
          "text": [
            "Resultado das operações:\n",
            "5100.25\n",
            "9600.32\n",
            "Lucas Analista\n"
          ],
          "name": "stdout"
        }
      ]
    },
    {
      "cell_type": "code",
      "metadata": {
        "id": "YFEWTRU1i_T1",
        "colab_type": "code",
        "colab": {
          "base_uri": "https://localhost:8080/",
          "height": 34
        },
        "outputId": "a38d9322-5362-4fc2-a1ba-714adf70c4c1"
      },
      "source": [
        "variavelteste='10.1'\n",
        "soma = float(variavelteste) + x\n",
        "soma"
      ],
      "execution_count": 42,
      "outputs": [
        {
          "output_type": "execute_result",
          "data": {
            "text/plain": [
              "20.1"
            ]
          },
          "metadata": {
            "tags": []
          },
          "execution_count": 42
        }
      ]
    },
    {
      "cell_type": "code",
      "metadata": {
        "id": "N39hR_Afjt3k",
        "colab_type": "code",
        "colab": {
          "base_uri": "https://localhost:8080/",
          "height": 85
        },
        "outputId": "1de35175-3d35-4729-ed50-f88c00e269ba"
      },
      "source": [
        "print('Formatando a impressão\\nNome do servidor: {}\\nCargo: {}\\nSalario: {}'.format(nome1,cargo1,salario1))"
      ],
      "execution_count": 43,
      "outputs": [
        {
          "output_type": "stream",
          "text": [
            "Formatando a impressão\n",
            "Nome do servidor: Lucas\n",
            "Cargo: Analista\n",
            "Salario: 1900.1\n"
          ],
          "name": "stdout"
        }
      ]
    },
    {
      "cell_type": "markdown",
      "metadata": {
        "id": "L718SPM1k9sR",
        "colab_type": "text"
      },
      "source": [
        "\n",
        "Manuseando Listas\n",
        "\n"
      ]
    },
    {
      "cell_type": "code",
      "metadata": {
        "id": "CGQo0JmeOrqW",
        "colab_type": "code",
        "colab": {
          "base_uri": "https://localhost:8080/",
          "height": 68
        },
        "outputId": "c8a53c3a-59fd-48be-886c-db62859519e9"
      },
      "source": [
        "listavazia = []\n",
        "lista1= [nome1,nome2,nome3,nome4,'José']\n",
        "lista2= [cargo1,cargo2,cargo3,cargo4,'Supervisor']\n",
        "lista3mista = [[idade1,salario1],[idade2,salario2]]\n",
        "\n",
        "print(lista1)\n",
        "print(lista2)\n",
        "print(lista3mista)"
      ],
      "execution_count": 44,
      "outputs": [
        {
          "output_type": "stream",
          "text": [
            "['Lucas', 'Bruna', 'Maria', 'João', 'José']\n",
            "['Analista', 'Coordenador', 'Diretor', 'Especialista', 'Supervisor']\n",
            "[[28, 1900.1], [29, 3200.15]]\n"
          ],
          "name": "stdout"
        }
      ]
    },
    {
      "cell_type": "code",
      "metadata": {
        "id": "XVWbQ4LSIkIT",
        "colab_type": "code",
        "colab": {
          "base_uri": "https://localhost:8080/",
          "height": 34
        },
        "outputId": "49241e8f-72cf-4c7e-9f10-4484f6a59149"
      },
      "source": [
        "lista1"
      ],
      "execution_count": 45,
      "outputs": [
        {
          "output_type": "execute_result",
          "data": {
            "text/plain": [
              "['Lucas', 'Bruna', 'Maria', 'João', 'José']"
            ]
          },
          "metadata": {
            "tags": []
          },
          "execution_count": 45
        }
      ]
    },
    {
      "cell_type": "code",
      "metadata": {
        "id": "F3NvJK89H5RM",
        "colab_type": "code",
        "colab": {
          "base_uri": "https://localhost:8080/",
          "height": 35
        },
        "outputId": "452d016f-4c87-4437-c516-4b64b8be5888"
      },
      "source": [
        "lista1[1]"
      ],
      "execution_count": 46,
      "outputs": [
        {
          "output_type": "execute_result",
          "data": {
            "application/vnd.google.colaboratory.intrinsic": {
              "type": "string"
            },
            "text/plain": [
              "'Bruna'"
            ]
          },
          "metadata": {
            "tags": []
          },
          "execution_count": 46
        }
      ]
    },
    {
      "cell_type": "code",
      "metadata": {
        "id": "-LuoaqQwIAW0",
        "colab_type": "code",
        "colab": {
          "base_uri": "https://localhost:8080/",
          "height": 34
        },
        "outputId": "60f8764d-7f5b-4ca1-ab71-6b793f43bdf8"
      },
      "source": [
        "lista2[0:3]"
      ],
      "execution_count": 47,
      "outputs": [
        {
          "output_type": "execute_result",
          "data": {
            "text/plain": [
              "['Analista', 'Coordenador', 'Diretor']"
            ]
          },
          "metadata": {
            "tags": []
          },
          "execution_count": 47
        }
      ]
    },
    {
      "cell_type": "code",
      "metadata": {
        "id": "MtXYsNVtIL-L",
        "colab_type": "code",
        "colab": {
          "base_uri": "https://localhost:8080/",
          "height": 34
        },
        "outputId": "37bca1dd-ce06-4aa1-85a2-771b1ff07de6"
      },
      "source": [
        "lista3mista[0]"
      ],
      "execution_count": 48,
      "outputs": [
        {
          "output_type": "execute_result",
          "data": {
            "text/plain": [
              "[28, 1900.1]"
            ]
          },
          "metadata": {
            "tags": []
          },
          "execution_count": 48
        }
      ]
    },
    {
      "cell_type": "code",
      "metadata": {
        "id": "Ry71KNJXIESj",
        "colab_type": "code",
        "colab": {
          "base_uri": "https://localhost:8080/",
          "height": 34
        },
        "outputId": "5ab0eef6-98c2-47a2-a4cf-d927caf99869"
      },
      "source": [
        "lista3mista[0][1]"
      ],
      "execution_count": 49,
      "outputs": [
        {
          "output_type": "execute_result",
          "data": {
            "text/plain": [
              "1900.1"
            ]
          },
          "metadata": {
            "tags": []
          },
          "execution_count": 49
        }
      ]
    },
    {
      "cell_type": "code",
      "metadata": {
        "id": "KyZD9NGfoJzR",
        "colab_type": "code",
        "colab": {}
      },
      "source": [
        ""
      ],
      "execution_count": 49,
      "outputs": []
    },
    {
      "cell_type": "code",
      "metadata": {
        "id": "kC9TSgadStaw",
        "colab_type": "code",
        "colab": {
          "base_uri": "https://localhost:8080/",
          "height": 85
        },
        "outputId": "a4091473-7f43-4ed1-dec8-fbdd05f2622c"
      },
      "source": [
        "listavazia = []\n",
        "listavazia.append(lista1)\n",
        "listavazia.append(lista2)\n",
        "listavazia.append(10)\n",
        "\n",
        "print(listavazia)\n",
        "print('\\nPrimeiro objeto da listavazia: {}'.format(listavazia[0]))\n",
        "print('Valor contido na posição 3 da lista que está na posição 1 da listavazia: {}'.format(listavazia[1][3]))"
      ],
      "execution_count": 50,
      "outputs": [
        {
          "output_type": "stream",
          "text": [
            "[['Lucas', 'Bruna', 'Maria', 'João', 'José'], ['Analista', 'Coordenador', 'Diretor', 'Especialista', 'Supervisor'], 10]\n",
            "\n",
            "Primeiro objeto da listavazia: ['Lucas', 'Bruna', 'Maria', 'João', 'José']\n",
            "Valor contido na posição 3 da lista que está na posição 1 da listavazia: Especialista\n"
          ],
          "name": "stdout"
        }
      ]
    },
    {
      "cell_type": "code",
      "metadata": {
        "id": "Ftg43UPxUPDM",
        "colab_type": "code",
        "colab": {
          "base_uri": "https://localhost:8080/",
          "height": 34
        },
        "outputId": "522ec832-2eb6-4690-eb8d-2e95f851455f"
      },
      "source": [
        "listaIdade = [idade1,idade2]\n",
        "listaIdade.append(idade3)\n",
        "listaIdade.append(idade4)\n",
        "\n",
        "#crie uma lista para armazenar os salários \n",
        "#nos mesmos moldes que a listaIdade criada acima\n",
        "#e depois a imprima-a\n",
        "\n",
        "listaIdade"
      ],
      "execution_count": 51,
      "outputs": [
        {
          "output_type": "execute_result",
          "data": {
            "text/plain": [
              "[28, 29, 20, 32]"
            ]
          },
          "metadata": {
            "tags": []
          },
          "execution_count": 51
        }
      ]
    },
    {
      "cell_type": "code",
      "metadata": {
        "id": "Ew9LnoxnpntE",
        "colab_type": "code",
        "colab": {
          "base_uri": "https://localhost:8080/",
          "height": 34
        },
        "outputId": "0f4c6a90-16f8-47f0-c958-150189ca0061"
      },
      "source": [
        "listaSalarios = [salario1, salario2]\n",
        "listaSalarios.append(salario3)\n",
        "listaSalarios.append(salario4)\n",
        "\n",
        "listaSalarios"
      ],
      "execution_count": 52,
      "outputs": [
        {
          "output_type": "execute_result",
          "data": {
            "text/plain": [
              "[1900.1, 3200.15, 4500.07, 3020.58]"
            ]
          },
          "metadata": {
            "tags": []
          },
          "execution_count": 52
        }
      ]
    },
    {
      "cell_type": "markdown",
      "metadata": {
        "id": "4ZETGvCLFK7K",
        "colab_type": "text"
      },
      "source": [
        "Operadores lógicos e condicional"
      ]
    },
    {
      "cell_type": "code",
      "metadata": {
        "id": "IIyNupHMrgO4",
        "colab_type": "code",
        "colab": {}
      },
      "source": [
        ""
      ],
      "execution_count": 52,
      "outputs": []
    },
    {
      "cell_type": "code",
      "metadata": {
        "id": "QPicb52V33wz",
        "colab_type": "code",
        "colab": {
          "base_uri": "https://localhost:8080/",
          "height": 34
        },
        "outputId": "de4cc212-9ad6-42c7-9da6-1e5e7625ef43"
      },
      "source": [
        "if listaIdade[3]>30:\n",
        "  print('o Valor da posição 3 da listaIdade é Maior que 30')\n",
        "elif listaIdade[3]==30:\n",
        "  print('o Valor da posição 3 da listaIdade é IGUAL que 30')\n",
        "else:\n",
        "  print('o Valor da posição 3 da listaIdade é MENOR que 30')\n"
      ],
      "execution_count": 53,
      "outputs": [
        {
          "output_type": "stream",
          "text": [
            "o Valor da posição 3 da listaIdade é Maior que 30\n"
          ],
          "name": "stdout"
        }
      ]
    },
    {
      "cell_type": "markdown",
      "metadata": {
        "id": "FEaI-Ww3FQC9",
        "colab_type": "text"
      },
      "source": [
        "Laço de repetição"
      ]
    },
    {
      "cell_type": "code",
      "metadata": {
        "id": "q_qmziqaFSdz",
        "colab_type": "code",
        "colab": {
          "base_uri": "https://localhost:8080/",
          "height": 102
        },
        "outputId": "a98d44f2-ca4a-4962-d80d-da17528a7712"
      },
      "source": [
        "listaIdade.append(31)\n",
        "for novavariavel in listaIdade:\n",
        "  if novavariavel<28:\n",
        "    print('{} é MENOR que 28'.format(novavariavel))\n",
        "  elif ((novavariavel>=28) & (novavariavel<30)):\n",
        "    print('{} está entre 28 e 30'.format(novavariavel))\n",
        "  elif novavariavel==32:\n",
        "    print('{} é IGUAL a 32'.format(novavariavel))\n",
        "  else:\n",
        "    print('{} é MAIOR que 30 e diferente de 32'.format(novavariavel))"
      ],
      "execution_count": 54,
      "outputs": [
        {
          "output_type": "stream",
          "text": [
            "28 está entre 28 e 30\n",
            "29 está entre 28 e 30\n",
            "20 é MENOR que 28\n",
            "32 é IGUAL a 32\n",
            "31 é MAIOR que 30 e diferente de 32\n"
          ],
          "name": "stdout"
        }
      ]
    },
    {
      "cell_type": "code",
      "metadata": {
        "id": "dg6QZQjfKeEN",
        "colab_type": "code",
        "colab": {
          "base_uri": "https://localhost:8080/",
          "height": 85
        },
        "outputId": "85eca37d-858b-477f-9fb7-726fb3640ea3"
      },
      "source": [
        "for variavelposicao in range(0,4):\n",
        "  print('imprimindo o valor:{}'.format(lista1[variavelposicao])) #lisat1[1]"
      ],
      "execution_count": 55,
      "outputs": [
        {
          "output_type": "stream",
          "text": [
            "imprimindo o valor:Lucas\n",
            "imprimindo o valor:Bruna\n",
            "imprimindo o valor:Maria\n",
            "imprimindo o valor:João\n"
          ],
          "name": "stdout"
        }
      ]
    }
  ]
}